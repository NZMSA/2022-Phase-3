{
 "cells": [
  {
   "cell_type": "markdown",
   "metadata": {},
   "source": [
    "# Data Science Report for NZMSA Phase 2 2022."
   ]
  },
  {
   "cell_type": "code",
   "execution_count": null,
   "metadata": {},
   "outputs": [],
   "source": [
    "import warnings\n",
    "warnings.filterwarnings(\"ignore\")\n",
    "\n",
    "import tensorflow as tf\n",
    "\n",
    "model = tf.keras.models.load_model('output/my_model')"
   ]
  },
  {
   "cell_type": "markdown",
   "metadata": {},
   "source": [
    "## Introduction\n",
    "What is the goal of this project?"
   ]
  },
  {
   "cell_type": "markdown",
   "metadata": {},
   "source": [
    "## Approach\n",
    "\n",
    "Describe how you:\n",
    "* Create/obtained your dataset.\n",
    "* Arrived to your model(s) setup.\n",
    "\n",
    "Currently the neural network is arranged of the format:"
   ]
  },
  {
   "cell_type": "code",
   "execution_count": null,
   "metadata": {},
   "outputs": [],
   "source": [
    "model.summary(line_length=100)"
   ]
  },
  {
   "cell_type": "markdown",
   "metadata": {},
   "source": [
    "Example explanation:\n",
    "* Rescaled by dividing input by 17 because 131072 (which is 2 to the power of 17) is the maximum possible number in the tile. Data normalisation makes calculations easier for the model."
   ]
  },
  {
   "cell_type": "markdown",
   "metadata": {},
   "source": [
    "## Result"
   ]
  },
  {
   "cell_type": "markdown",
   "metadata": {},
   "source": [
    "Result of training the model(s):\n",
    "* Accuracy of the scored data and the trained data.\n",
    "* Optional: Insert graph(s) of the training progress that can be obtained from tensorboard.\n",
    "\n",
    "Make the model(s) play around 100 games and report the results and observation. Example observations include:\n",
    "* Always accomplished the 128 tile.\n",
    "* An undesired behaviour that can happen at some point."
   ]
  },
  {
   "cell_type": "markdown",
   "metadata": {},
   "source": [
    "## Conclusion\n",
    "Summarise the report without introducing any new information."
   ]
  },
  {
   "cell_type": "markdown",
   "metadata": {},
   "source": [
    "## Future Improvement"
   ]
  },
  {
   "cell_type": "markdown",
   "metadata": {},
   "source": [
    "Note something that you can do better in the future. Here are a few examples:\n",
    "* Convert from supervised training to reinforcement learning.\n",
    "* Have the model account for deciding only valid moves."
   ]
  }
 ],
 "metadata": {
  "kernelspec": {
   "display_name": "Python 3.10.4 ('nzmsa')",
   "language": "python",
   "name": "python3"
  },
  "language_info": {
   "codemirror_mode": {
    "name": "ipython",
    "version": 3
   },
   "file_extension": ".py",
   "mimetype": "text/x-python",
   "name": "python",
   "nbconvert_exporter": "python",
   "pygments_lexer": "ipython3",
   "version": "3.10.4"
  },
  "orig_nbformat": 4,
  "vscode": {
   "interpreter": {
    "hash": "d450ca4fd356079952654570e1db9e35f7ec0aec4b27f4f4fe1658fa5f9fcf39"
   }
  }
 },
 "nbformat": 4,
 "nbformat_minor": 2
}
